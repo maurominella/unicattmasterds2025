{
 "cells": [
  {
   "cell_type": "code",
   "execution_count": 116,
   "id": "375f3cf8-4d6c-4467-a877-baf992170d04",
   "metadata": {},
   "outputs": [
    {
     "name": "stdout",
     "output_type": "stream",
     "text": [
      "10 is ten\n"
     ]
    }
   ],
   "source": [
    "a = 10\n",
    "b = 50\n",
    "\n",
    "if a > b:\n",
    "    print(f\"{a} is bigger than {b}\")\n",
    "elif a==10:\n",
    "    print(f\"{a} is ten\")"
   ]
  },
  {
   "cell_type": "code",
   "execution_count": 7,
   "id": "1c48cd18-44ee-48cb-a9b4-8425cc679ab7",
   "metadata": {},
   "outputs": [
    {
     "name": "stdin",
     "output_type": "stream",
     "text": [
      "Enter a number, please 0\n"
     ]
    },
    {
     "name": "stdout",
     "output_type": "stream",
     "text": [
      "zero\n"
     ]
    }
   ],
   "source": [
    "a = int(input(\"Enter a number, please\"))\n",
    "if a >0:\n",
    "    print(\"positive\")\n",
    "elif a<0:\n",
    "    print(\"negative\")\n",
    "else:\n",
    "    print(\"zero\")"
   ]
  },
  {
   "cell_type": "code",
   "execution_count": 10,
   "id": "218242ed-3107-4438-9c9d-5b0d51d3d141",
   "metadata": {},
   "outputs": [
    {
     "name": "stdin",
     "output_type": "stream",
     "text": [
      "Enter the age, please -100\n"
     ]
    },
    {
     "name": "stdout",
     "output_type": "stream",
     "text": [
      "child\n"
     ]
    }
   ],
   "source": [
    "age = int(input(\"Enter the age, please\"))\n",
    "if age <13:\n",
    "    print(\"child\")\n",
    "elif age<19:\n",
    "    print(\"teen ager\")\n",
    "elif age<65:\n",
    "    print(\"adult\")\n",
    "else:\n",
    "    print(\"senior\")"
   ]
  },
  {
   "cell_type": "code",
   "execution_count": 13,
   "id": "fd86f45b-fb94-440e-be1b-2036262e4469",
   "metadata": {},
   "outputs": [
    {
     "name": "stdin",
     "output_type": "stream",
     "text": [
      "Enter the evaluation, please 96\n"
     ]
    },
    {
     "name": "stdout",
     "output_type": "stream",
     "text": [
      "Your evaluation is A\n"
     ]
    }
   ],
   "source": [
    "grade = int(input(\"Enter the evaluation, please\"))\n",
    "\n",
    "if grade <60:\n",
    "    score = \"D\"\n",
    "elif grade<70:\n",
    "    score = \"C\"\n",
    "elif grade<90:\n",
    "    score = \"B\"\n",
    "else:\n",
    "    score = \"A\"\n",
    "\n",
    "print(f\"Your evaluation is {score}\")"
   ]
  },
  {
   "cell_type": "code",
   "execution_count": 26,
   "id": "1587f6f5-8a91-4c02-b5cb-b984cb55219f",
   "metadata": {},
   "outputs": [
    {
     "data": {
      "text/plain": [
       "False"
      ]
     },
     "execution_count": 26,
     "metadata": {},
     "output_type": "execute_result"
    }
   ],
   "source": [
    "def xor(a:bool, b:bool):\n",
    "    if a and not b:\n",
    "        return True\n",
    "    elif not a and b:\n",
    "        return True\n",
    "    else:\n",
    "        return False\n",
    "        \n",
    "xor(True,True)"
   ]
  },
  {
   "cell_type": "code",
   "execution_count": 27,
   "id": "6c121b58-443f-44e5-81ba-db39aeedfb76",
   "metadata": {},
   "outputs": [
    {
     "data": {
      "text/plain": [
       "False"
      ]
     },
     "execution_count": 27,
     "metadata": {},
     "output_type": "execute_result"
    }
   ],
   "source": [
    "def xor(a:bool, b:bool):\n",
    "    if a +b == 1:\n",
    "        return True\n",
    "    else:\n",
    "        return False\n",
    "        \n",
    "xor(True,True)"
   ]
  },
  {
   "cell_type": "code",
   "execution_count": 29,
   "id": "07da5a58-dae9-4959-bcee-97e7c3733069",
   "metadata": {},
   "outputs": [
    {
     "data": {
      "text/plain": [
       "True"
      ]
     },
     "execution_count": 29,
     "metadata": {},
     "output_type": "execute_result"
    }
   ],
   "source": [
    "def xor(a:bool, b:bool):\n",
    "    if a != b:\n",
    "        return True\n",
    "    else:\n",
    "        return False\n",
    "        \n",
    "xor(True,False)"
   ]
  },
  {
   "cell_type": "code",
   "execution_count": 30,
   "id": "4011c495-ab7b-42bf-af71-0a29c92d28d6",
   "metadata": {},
   "outputs": [
    {
     "data": {
      "text/plain": [
       "True"
      ]
     },
     "execution_count": 30,
     "metadata": {},
     "output_type": "execute_result"
    }
   ],
   "source": [
    "def xor(a:bool, b:bool):\n",
    "    return a!=b\n",
    "        \n",
    "xor(True,False)"
   ]
  },
  {
   "cell_type": "code",
   "execution_count": 34,
   "id": "09a1e4df-8648-45e7-af24-f5d52d32f5db",
   "metadata": {},
   "outputs": [
    {
     "name": "stdout",
     "output_type": "stream",
     "text": [
      "False\n"
     ]
    }
   ],
   "source": [
    "a = True\n",
    "b = True\n",
    "print (a != b)"
   ]
  }
 ],
 "metadata": {
  "kernelspec": {
   "display_name": "masterds",
   "language": "python",
   "name": "masterds"
  },
  "language_info": {
   "codemirror_mode": {
    "name": "ipython",
    "version": 3
   },
   "file_extension": ".py",
   "mimetype": "text/x-python",
   "name": "python",
   "nbconvert_exporter": "python",
   "pygments_lexer": "ipython3",
   "version": "3.11.11"
  }
 },
 "nbformat": 4,
 "nbformat_minor": 5
}
