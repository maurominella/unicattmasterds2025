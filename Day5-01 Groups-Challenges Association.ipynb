{
 "cells": [
  {
   "cell_type": "code",
   "execution_count": 1,
   "id": "9ea63270-d939-4d99-a54e-5be4b5923b62",
   "metadata": {},
   "outputs": [
    {
     "name": "stdout",
     "output_type": "stream",
     "text": [
      "Team Team1 works on challenge Challenge2\n",
      "Team Team2 works on challenge Challenge4\n",
      "Team Team3 works on challenge Challenge3\n",
      "Team Team4 works on challenge Challenge1\n"
     ]
    }
   ],
   "source": [
    "teams = [\"Team1\",\"Team2\",\"Team3\",\"Team4\"]\n",
    "challenge = [\"Challenge1\",\"Challenge2\",\"Challenge3\",\"Challenge4\"]\n",
    "\n",
    "import random\n",
    "random.choice(challenge)\n",
    "\n",
    "associations = []\n",
    "\n",
    "for t in teams:\n",
    "    c = random.choice(challenge)\n",
    "    associations.append(c)\n",
    "    challenge.remove(c)\n",
    "    print (f\"Team {t} works on challenge {c}\")"
   ]
  }
 ],
 "metadata": {
  "kernelspec": {
   "display_name": "masterds",
   "language": "python",
   "name": "masterds"
  },
  "language_info": {
   "codemirror_mode": {
    "name": "ipython",
    "version": 3
   },
   "file_extension": ".py",
   "mimetype": "text/x-python",
   "name": "python",
   "nbconvert_exporter": "python",
   "pygments_lexer": "ipython3",
   "version": "3.11.11"
  }
 },
 "nbformat": 4,
 "nbformat_minor": 5
}
