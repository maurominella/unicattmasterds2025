{
 "cells": [
  {
   "cell_type": "markdown",
   "id": "a859b2a8-73c6-4829-bcfb-4ea826d5c929",
   "metadata": {},
   "source": [
    "# Lists: Ordered , mutable collections of elements"
   ]
  },
  {
   "cell_type": "code",
   "execution_count": 84,
   "id": "164003a6-f39e-4c7c-b4b7-a41d4051e141",
   "metadata": {},
   "outputs": [
    {
     "data": {
      "text/plain": [
       "list"
      ]
     },
     "execution_count": 84,
     "metadata": {},
     "output_type": "execute_result"
    }
   ],
   "source": [
    "my_list = [1,2,3, \"Hello\", False, 4.5]\n",
    "type(my_list)"
   ]
  },
  {
   "cell_type": "code",
   "execution_count": 85,
   "id": "b857e875-c3f8-4778-aa8a-be8addcd3ce4",
   "metadata": {},
   "outputs": [
    {
     "name": "stdout",
     "output_type": "stream",
     "text": [
      "[1, 2, 3, 'Hello', False, 4.5]\n"
     ]
    }
   ],
   "source": [
    "print(my_list)"
   ]
  },
  {
   "cell_type": "code",
   "execution_count": 86,
   "id": "a8a0ea91-d118-4ed8-b274-ca8884df12a7",
   "metadata": {},
   "outputs": [
    {
     "data": {
      "text/plain": [
       "[1, 2, 3, 'Hello', False, 4.5, 'new element']"
      ]
     },
     "execution_count": 86,
     "metadata": {},
     "output_type": "execute_result"
    }
   ],
   "source": [
    "my_list.append(\"new element\")\n",
    "my_list"
   ]
  },
  {
   "cell_type": "code",
   "execution_count": 87,
   "id": "6164d550-14b4-415a-8b16-60dbb95b2273",
   "metadata": {},
   "outputs": [
    {
     "data": {
      "text/plain": [
       "[1, 3, 'Hello', False, 4.5, 'new element']"
      ]
     },
     "execution_count": 87,
     "metadata": {},
     "output_type": "execute_result"
    }
   ],
   "source": [
    "my_list.remove(\"new element\")\n",
    "my_list"
   ]
  },
  {
   "cell_type": "code",
   "execution_count": 31,
   "id": "8f8f9c73-410c-47fa-aed8-fde82d8e4867",
   "metadata": {},
   "outputs": [
    {
     "ename": "IndexError",
     "evalue": "pop from empty list",
     "output_type": "error",
     "traceback": [
      "\u001b[0;31m---------------------------------------------------------------------------\u001b[0m",
      "\u001b[0;31mIndexError\u001b[0m                                Traceback (most recent call last)",
      "Cell \u001b[0;32mIn[31], line 1\u001b[0m\n\u001b[0;32m----> 1\u001b[0m \u001b[43mmy_list\u001b[49m\u001b[38;5;241;43m.\u001b[39;49m\u001b[43mpop\u001b[49m\u001b[43m(\u001b[49m\u001b[38;5;241;43m-\u001b[39;49m\u001b[38;5;241;43m1\u001b[39;49m\u001b[43m)\u001b[49m\n\u001b[1;32m      2\u001b[0m my_list\n",
      "\u001b[0;31mIndexError\u001b[0m: pop from empty list"
     ]
    }
   ],
   "source": [
    "my_list.pop(-1)\n",
    "my_list"
   ]
  },
  {
   "cell_type": "code",
   "execution_count": 39,
   "id": "4a305f85-71a5-4ed7-aaf0-ed3f5d15384b",
   "metadata": {},
   "outputs": [
    {
     "data": {
      "text/plain": [
       "[1, 2, 3, 'Samantha', False, 4.5]"
      ]
     },
     "execution_count": 39,
     "metadata": {},
     "output_type": "execute_result"
    }
   ],
   "source": [
    "my_list[3]=\"Samantha\"\n",
    "my_list"
   ]
  },
  {
   "cell_type": "markdown",
   "id": "834c3150-1c4a-4b0e-b629-f1b644cd17d7",
   "metadata": {},
   "source": [
    "# Tuples: Ordered, non-mutable collecitons of elements"
   ]
  },
  {
   "cell_type": "code",
   "execution_count": 47,
   "id": "cc97fcb9-566e-4d3d-9436-ec1bfac958eb",
   "metadata": {},
   "outputs": [
    {
     "data": {
      "text/plain": [
       "('apple', 'banana', 'cherry')"
      ]
     },
     "execution_count": 47,
     "metadata": {},
     "output_type": "execute_result"
    }
   ],
   "source": [
    "my_tuple = (\"apple\", \"banana\", \"cherry\")\n",
    "my_tuple"
   ]
  },
  {
   "cell_type": "code",
   "execution_count": 42,
   "id": "a259657b-48bb-4211-85b4-7aadd5e1b7b6",
   "metadata": {},
   "outputs": [
    {
     "data": {
      "text/plain": [
       "tuple"
      ]
     },
     "execution_count": 42,
     "metadata": {},
     "output_type": "execute_result"
    }
   ],
   "source": [
    "type(my_tuple)"
   ]
  },
  {
   "cell_type": "code",
   "execution_count": 61,
   "id": "9f984802-e75e-4656-ad6d-cab6b9c7a131",
   "metadata": {},
   "outputs": [
    {
     "data": {
      "text/plain": [
       "('banana', 'cherry')"
      ]
     },
     "execution_count": 61,
     "metadata": {},
     "output_type": "execute_result"
    }
   ],
   "source": [
    "my_tuple[1:3]"
   ]
  },
  {
   "cell_type": "markdown",
   "id": "fea1044d-5f9a-43cf-8912-0b7828b31df3",
   "metadata": {},
   "source": [
    "# Dictionaries: Unordered, mutable collections of key-value pairs"
   ]
  },
  {
   "cell_type": "code",
   "execution_count": 96,
   "id": "87db60af-048a-47ed-bfe0-862767cfb295",
   "metadata": {},
   "outputs": [
    {
     "data": {
      "text/plain": [
       "{'name': 'Alessandra', 'age': 30, 'location': 'France'}"
      ]
     },
     "execution_count": 96,
     "metadata": {},
     "output_type": "execute_result"
    }
   ],
   "source": [
    "my_dict1 = {\n",
    "    \"name\": \"Steven\",\n",
    "    \"name\": \"Luca\",\n",
    "    \"name\": \"Alessandra\",\n",
    "    \"age\": 30,\n",
    "    \"location\": \"France\"\n",
    "}\n",
    "\n",
    "my_dict1"
   ]
  },
  {
   "cell_type": "code",
   "execution_count": 62,
   "id": "37f4760e-4562-4fc2-80cc-0de2ae048307",
   "metadata": {},
   "outputs": [
    {
     "data": {
      "text/plain": [
       "[{'name': 'Steven', 'age': 30, 'location': 'France'},\n",
       " {'name': 'Alice', 'age': 18, 'location': 'United States'}]"
      ]
     },
     "execution_count": 62,
     "metadata": {},
     "output_type": "execute_result"
    }
   ],
   "source": [
    "my_dict1 = {\n",
    "    \"name\": \"Steven\",\n",
    "    \"age\": 30,\n",
    "    \"location\": \"France\"\n",
    "}\n",
    "\n",
    "my_dict2 = {\n",
    "    \"name\": \"Alice\",\n",
    "    \"age\": 18,\n",
    "    \"location\": \"United States\"\n",
    "}\n",
    "\n",
    "my_complex_list = [my_dict1,my_dict2]\n",
    "my_complex_list"
   ]
  },
  {
   "cell_type": "code",
   "execution_count": 63,
   "id": "da9c9b6a-6d7d-4718-aaf2-f0b466d010e5",
   "metadata": {},
   "outputs": [
    {
     "data": {
      "text/plain": [
       "{'name': 'Alice', 'age': 18, 'location': 'United States'}"
      ]
     },
     "execution_count": 63,
     "metadata": {},
     "output_type": "execute_result"
    }
   ],
   "source": [
    "my_complex_list[1]"
   ]
  },
  {
   "cell_type": "code",
   "execution_count": 64,
   "id": "a9ba776b-32cf-4f06-8160-7ac6572d240f",
   "metadata": {},
   "outputs": [
    {
     "data": {
      "text/plain": [
       "{'name': 'Alice',\n",
       " 'age': 18,\n",
       " 'location': [{'name': 'Steven', 'age': 30, 'location': 'France'},\n",
       "  {'name': 'Alice', 'age': 18, 'location': 'United States'}]}"
      ]
     },
     "execution_count": 64,
     "metadata": {},
     "output_type": "execute_result"
    }
   ],
   "source": [
    "my_dict[\"location\"] = my_complex_list\n",
    "my_dict"
   ]
  },
  {
   "cell_type": "code",
   "execution_count": 70,
   "id": "519f26be-2b0e-46d9-a06e-3932f1ef89ca",
   "metadata": {},
   "outputs": [
    {
     "data": {
      "text/plain": [
       "{'name': 'Alice',\n",
       " 'age': 18,\n",
       " 'location': [{'name': 'Alicia', 'age': 30, 'location': 'France'},\n",
       "  {'name': 'Alice', 'age': 18, 'location': 'United States'}]}"
      ]
     },
     "execution_count": 70,
     "metadata": {},
     "output_type": "execute_result"
    }
   ],
   "source": [
    "my_dict[\"location\"][0][\"name\"]=\"Alicia\"\n",
    "my_dict"
   ]
  },
  {
   "cell_type": "code",
   "execution_count": 72,
   "id": "c7ffc528-a8eb-4f53-b050-50ab4e0aa4dd",
   "metadata": {},
   "outputs": [
    {
     "data": {
      "text/plain": [
       "'cia'"
      ]
     },
     "execution_count": 72,
     "metadata": {},
     "output_type": "execute_result"
    }
   ],
   "source": [
    "my_dict[\"location\"][0][\"name\"][-3:]"
   ]
  },
  {
   "cell_type": "markdown",
   "id": "05810429-9d64-4054-9469-3b80361e0920",
   "metadata": {},
   "source": [
    "# Sets: Un-ordered, mutable collections of unique elements"
   ]
  },
  {
   "cell_type": "code",
   "execution_count": 73,
   "id": "d53134f4-abf3-4a6d-9b2c-f5f0c0b2c82e",
   "metadata": {},
   "outputs": [
    {
     "data": {
      "text/plain": [
       "{1, 2, 3, 4, 5}"
      ]
     },
     "execution_count": 73,
     "metadata": {},
     "output_type": "execute_result"
    }
   ],
   "source": [
    "my_set = {1,2,3,4,5}\n",
    "my_set"
   ]
  },
  {
   "cell_type": "code",
   "execution_count": 97,
   "id": "e923bc2e-7651-4826-9c26-8cdc06b0b21b",
   "metadata": {},
   "outputs": [
    {
     "data": {
      "text/plain": [
       "{1, 2, 3, 4, 5}"
      ]
     },
     "execution_count": 97,
     "metadata": {},
     "output_type": "execute_result"
    }
   ],
   "source": [
    "my_set = {1,2,3,4,5,2,4,4,4}\n",
    "my_set"
   ]
  },
  {
   "cell_type": "code",
   "execution_count": 79,
   "id": "baf82c2d-dd15-4571-abd3-aafd2bfad14c",
   "metadata": {},
   "outputs": [
    {
     "data": {
      "text/plain": [
       "False"
      ]
     },
     "execution_count": 79,
     "metadata": {},
     "output_type": "execute_result"
    }
   ],
   "source": [
    "30 in my_set"
   ]
  },
  {
   "cell_type": "code",
   "execution_count": 81,
   "id": "d194ebef-318a-40ad-b277-6709dabbc57d",
   "metadata": {},
   "outputs": [
    {
     "data": {
      "text/plain": [
       "5"
      ]
     },
     "execution_count": 81,
     "metadata": {},
     "output_type": "execute_result"
    }
   ],
   "source": [
    "max(my_set)"
   ]
  },
  {
   "cell_type": "code",
   "execution_count": 82,
   "id": "3571285a-620d-4c62-ad3a-946abed2b8b3",
   "metadata": {},
   "outputs": [
    {
     "name": "stdout",
     "output_type": "stream",
     "text": [
      "1\n",
      "2\n",
      "3\n",
      "4\n",
      "5\n"
     ]
    }
   ],
   "source": [
    "for e in my_set:\n",
    "    print(e)"
   ]
  },
  {
   "cell_type": "code",
   "execution_count": 83,
   "id": "b101ae30-799a-4db9-bef8-768c363bb469",
   "metadata": {},
   "outputs": [
    {
     "data": {
      "text/plain": [
       "{1, 2, 3, 4, 5, 10}"
      ]
     },
     "execution_count": 83,
     "metadata": {},
     "output_type": "execute_result"
    }
   ],
   "source": [
    "my_set.add (10)\n",
    "my_set"
   ]
  }
 ],
 "metadata": {
  "kernelspec": {
   "display_name": "masterds",
   "language": "python",
   "name": "masterds"
  },
  "language_info": {
   "codemirror_mode": {
    "name": "ipython",
    "version": 3
   },
   "file_extension": ".py",
   "mimetype": "text/x-python",
   "name": "python",
   "nbconvert_exporter": "python",
   "pygments_lexer": "ipython3",
   "version": "3.11.11"
  }
 },
 "nbformat": 4,
 "nbformat_minor": 5
}
