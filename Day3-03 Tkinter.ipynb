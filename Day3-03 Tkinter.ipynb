{
 "cells": [
  {
   "cell_type": "code",
   "execution_count": 1,
   "id": "9d5e2cc3-cbaa-4d26-b32f-01dddc73603d",
   "metadata": {},
   "outputs": [],
   "source": [
    "import tkinter as tk\n",
    "root = tk.Tk()"
   ]
  },
  {
   "cell_type": "code",
   "execution_count": 2,
   "id": "686535af-8992-4502-af17-953bfcd1f050",
   "metadata": {},
   "outputs": [
    {
     "data": {
      "text/plain": [
       "''"
      ]
     },
     "execution_count": 2,
     "metadata": {},
     "output_type": "execute_result"
    }
   ],
   "source": [
    "root.title(\"My First Tkinter Window\")"
   ]
  },
  {
   "cell_type": "code",
   "execution_count": 3,
   "id": "8f63ca8c-3b17-488d-b448-a165738a97de",
   "metadata": {},
   "outputs": [],
   "source": [
    "welcome_label = tk.Label(root, text=\"Welcome to Tkinter\")\n",
    "welcome_label.pack()"
   ]
  },
  {
   "cell_type": "code",
   "execution_count": 4,
   "id": "0859639a-2812-483f-af19-c40cf7d05e44",
   "metadata": {},
   "outputs": [],
   "source": [
    "def on_button_click():\n",
    "    import datetime    \n",
    "    current_time = datetime.datetime.now().strftime(\"%d/%m/%Y %H:%M:%S\")\n",
    "    welcome_label.config(text=f\"Button clicked on {current_time}\")"
   ]
  },
  {
   "cell_type": "code",
   "execution_count": 6,
   "id": "a6482f58-c2bc-4dec-8818-b3bc495b02e7",
   "metadata": {},
   "outputs": [],
   "source": [
    "click_me_button = tk.Button(root,text=\"Click me!\",command=on_button_click)\n",
    "click_me_button.pack()"
   ]
  },
  {
   "cell_type": "code",
   "execution_count": 7,
   "id": "997dae51-391c-45b7-a522-29915f6844e8",
   "metadata": {},
   "outputs": [],
   "source": [
    "root.mainloop()"
   ]
  }
 ],
 "metadata": {
  "kernelspec": {
   "display_name": "masterds",
   "language": "python",
   "name": "masterds"
  },
  "language_info": {
   "codemirror_mode": {
    "name": "ipython",
    "version": 3
   },
   "file_extension": ".py",
   "mimetype": "text/x-python",
   "name": "python",
   "nbconvert_exporter": "python",
   "pygments_lexer": "ipython3",
   "version": "3.11.11"
  }
 },
 "nbformat": 4,
 "nbformat_minor": 5
}
