{
 "cells": [
  {
   "cell_type": "code",
   "execution_count": null,
   "id": "1b4605c1-a5f4-4f20-8819-66dbba5b509b",
   "metadata": {},
   "outputs": [],
   "source": [
    "%pip install numpy"
   ]
  },
  {
   "cell_type": "code",
   "execution_count": 1,
   "id": "5ee73f38-e7ee-4cf2-a786-725d3ca0eaf7",
   "metadata": {},
   "outputs": [],
   "source": [
    "import numpy as np"
   ]
  },
  {
   "cell_type": "code",
   "execution_count": null,
   "id": "d7d0822e-8360-4a1f-b6a4-9276f10cdee9",
   "metadata": {},
   "outputs": [],
   "source": [
    "my_array = np.array([1,10,-5,20])"
   ]
  },
  {
   "cell_type": "code",
   "execution_count": null,
   "id": "e93c6500-6879-4fba-b641-ae7824be5c02",
   "metadata": {},
   "outputs": [],
   "source": [
    "print(f\"mean: {my_array.mean()}\")"
   ]
  },
  {
   "cell_type": "code",
   "execution_count": null,
   "id": "f57fb7eb-1d8d-440b-b1d3-3b37e57e524f",
   "metadata": {},
   "outputs": [],
   "source": [
    "my_array += 5"
   ]
  },
  {
   "cell_type": "code",
   "execution_count": null,
   "id": "3ad44df8-0e4e-4444-86bd-04b2bcb69c3a",
   "metadata": {},
   "outputs": [],
   "source": [
    "my_array"
   ]
  },
  {
   "cell_type": "code",
   "execution_count": null,
   "id": "9fe7ddd2-6bc8-4d88-a79c-2c2a32ef8121",
   "metadata": {},
   "outputs": [],
   "source": [
    "my_array * 2"
   ]
  },
  {
   "cell_type": "code",
   "execution_count": null,
   "id": "cba26a9d-53c2-4a18-90a4-53878a7a8a8f",
   "metadata": {},
   "outputs": [],
   "source": [
    "my_arr_4x3=np.array([[1,2,3], [4,5,6], [7,8,9], [10,11,12]])\n",
    "my_arr_4x3"
   ]
  },
  {
   "cell_type": "code",
   "execution_count": null,
   "id": "1b315313-3e4e-4efa-9373-b0d7fe27e76c",
   "metadata": {},
   "outputs": [],
   "source": [
    "type(my_arr_4x3)"
   ]
  },
  {
   "cell_type": "code",
   "execution_count": null,
   "id": "f4e1e597-1fe2-4b64-95ef-c23d96fd853d",
   "metadata": {},
   "outputs": [],
   "source": [
    "my_arr_4x3.T"
   ]
  },
  {
   "cell_type": "code",
   "execution_count": null,
   "id": "2a9bb084-fda0-4ae6-89b7-a0d94f67ebae",
   "metadata": {},
   "outputs": [],
   "source": [
    "random_integers = np.random.randint(100,200,20)\n",
    "print(random_integers)"
   ]
  },
  {
   "cell_type": "code",
   "execution_count": null,
   "id": "0ee37562-9d79-439e-aa7c-f3d5a6081553",
   "metadata": {},
   "outputs": [],
   "source": [
    "random_integers % 2 == 0"
   ]
  },
  {
   "cell_type": "code",
   "execution_count": null,
   "id": "25756652-474a-4403-aa2e-30f5edaf8ef1",
   "metadata": {},
   "outputs": [],
   "source": [
    "random_integers[random_integers % 2 == 1]"
   ]
  },
  {
   "cell_type": "code",
   "execution_count": null,
   "id": "34754084-90d5-4d25-90df-f2b1587c5bea",
   "metadata": {},
   "outputs": [],
   "source": [
    "def even (i):\n",
    "    return i % 2 == 0\n",
    "\n",
    "\n",
    "even(11)"
   ]
  },
  {
   "cell_type": "code",
   "execution_count": null,
   "id": "4eed3a79-4449-4c26-8d81-ae2d2cfaf8c5",
   "metadata": {},
   "outputs": [],
   "source": [
    "random_integers[even(random_integers)]"
   ]
  },
  {
   "cell_type": "markdown",
   "id": "c11b9b22-a28a-43e6-96ac-46464679dea8",
   "metadata": {},
   "source": [
    "# Numpy to read from CSV"
   ]
  },
  {
   "cell_type": "code",
   "execution_count": 12,
   "id": "140d5d90-bce5-42fa-9c9e-8289c365a09a",
   "metadata": {},
   "outputs": [
    {
     "data": {
      "text/plain": [
       "array([[338., 283., 402., 786.,  20., 154., 274., 745.,  95., 149., 488.,\n",
       "        517., 389.],\n",
       "       [ 16., 613., 650., 815., 699., 904., 999., 423., 324., 638., 537.,\n",
       "        979.,  80.],\n",
       "       [675., 777.,  12., 165., 333.,  54., 274., 534., 536., 240.,   6.,\n",
       "        426., 217.]])"
      ]
     },
     "execution_count": 12,
     "metadata": {},
     "output_type": "execute_result"
    }
   ],
   "source": [
    "dataset = np.genfromtxt(fname='numbers.csv', delimiter = ';',skip_header=1)\n",
    "dataset[:3]"
   ]
  },
  {
   "cell_type": "code",
   "execution_count": 13,
   "id": "d23c13e3-7677-404d-908d-0e47a1255e95",
   "metadata": {},
   "outputs": [
    {
     "data": {
      "text/plain": [
       "(31, 13)"
      ]
     },
     "execution_count": 13,
     "metadata": {},
     "output_type": "execute_result"
    }
   ],
   "source": [
    "dataset.shape"
   ]
  },
  {
   "cell_type": "code",
   "execution_count": 19,
   "id": "4215b87d-f199-4393-9df5-3216fcf03641",
   "metadata": {},
   "outputs": [],
   "source": [
    "column_index = 10\n",
    "column_data = dataset[:,column_index]"
   ]
  },
  {
   "cell_type": "code",
   "execution_count": 20,
   "id": "b223336c-d645-4495-bda6-87bacaaa9b5e",
   "metadata": {},
   "outputs": [
    {
     "name": "stdout",
     "output_type": "stream",
     "text": [
      "sum = 15133.0\n",
      "average = 488.16129032258067\n",
      "median = 526.0\n"
     ]
    }
   ],
   "source": [
    "print(f\"sum = {np.sum(column_data)}\")\n",
    "print(f\"average = {np.mean(column_data)}\")\n",
    "print(f\"median = {np.median(column_data)}\")"
   ]
  },
  {
   "cell_type": "code",
   "execution_count": null,
   "id": "2bfdffd7-e0f7-4ff3-b2fc-24045fe78f4c",
   "metadata": {},
   "outputs": [],
   "source": []
  }
 ],
 "metadata": {
  "kernelspec": {
   "display_name": "masterds",
   "language": "python",
   "name": "masterds"
  },
  "language_info": {
   "codemirror_mode": {
    "name": "ipython",
    "version": 3
   },
   "file_extension": ".py",
   "mimetype": "text/x-python",
   "name": "python",
   "nbconvert_exporter": "python",
   "pygments_lexer": "ipython3",
   "version": "3.11.11"
  }
 },
 "nbformat": 4,
 "nbformat_minor": 5
}
