{
 "cells": [
  {
   "cell_type": "code",
   "execution_count": 1,
   "id": "0b9e0bd6-5680-48ed-89c2-8e79b81e3c95",
   "metadata": {},
   "outputs": [
    {
     "name": "stdout",
     "output_type": "stream",
     "text": [
      "The result of calculate is 15\n"
     ]
    }
   ],
   "source": [
    "def calculate_area(h,w):\n",
    "    return h*w\n",
    "\n",
    "print(f\"The result of calculate is {calculate_area(3,5)}\")"
   ]
  },
  {
   "cell_type": "code",
   "execution_count": 2,
   "id": "fb5eddae-2fc2-490a-a54c-d8303ca8aa30",
   "metadata": {},
   "outputs": [
    {
     "name": "stdout",
     "output_type": "stream",
     "text": [
      "Hello, my name is Mario and I am 25\n"
     ]
    }
   ],
   "source": [
    "def introduce(name, age=25):\n",
    "    print(f\"Hello, my name is {name} and I am {age}\")\n",
    "\n",
    "introduce (\"Mario\")"
   ]
  },
  {
   "cell_type": "code",
   "execution_count": 3,
   "id": "2abe65a0-aeb2-46bc-9ac1-d0cac50c1bdd",
   "metadata": {},
   "outputs": [
    {
     "name": "stdout",
     "output_type": "stream",
     "text": [
      "(1, 5)\n",
      "('H', 'o')\n"
     ]
    }
   ],
   "source": [
    "def first_last(l:list):\n",
    "    if type(l) is list or type(l) is str:\n",
    "        first = l[0]\n",
    "        last = l[-1]\n",
    "        return first, last\n",
    "    else:\n",
    "        return \"I need a list, please\"\n",
    "\n",
    "print(first_last([1,3,10,-16,100,5]))\n",
    "print(first_last(\"Hello\"))"
   ]
  }
 ],
 "metadata": {
  "kernelspec": {
   "display_name": "masterds",
   "language": "python",
   "name": "masterds"
  },
  "language_info": {
   "codemirror_mode": {
    "name": "ipython",
    "version": 3
   },
   "file_extension": ".py",
   "mimetype": "text/x-python",
   "name": "python",
   "nbconvert_exporter": "python",
   "pygments_lexer": "ipython3",
   "version": "3.11.11"
  }
 },
 "nbformat": 4,
 "nbformat_minor": 5
}
