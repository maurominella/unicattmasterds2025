{
 "cells": [
  {
   "cell_type": "code",
   "execution_count": 1,
   "id": "abcfa4f9-d31c-42b9-9aee-7d58cbceedfc",
   "metadata": {},
   "outputs": [
    {
     "name": "stdin",
     "output_type": "stream",
     "text": [
      "Enter an EVEN number, please 5\n"
     ]
    },
    {
     "name": "stdout",
     "output_type": "stream",
     "text": [
      "Sorry but 5 is NOT an even number\n"
     ]
    }
   ],
   "source": [
    "n = input (\"Enter an EVEN number, please\")\n",
    "if n.isnumeric():\n",
    "    if (int(n) % 2) == 0:\n",
    "        print(f\"Thanks, {n} is an even number\")\n",
    "    else:\n",
    "        print(f\"Sorry but {n} is NOT an even number\")\n",
    "else:\n",
    "    print(f\"{n} is NOT a number\")"
   ]
  },
  {
   "cell_type": "code",
   "execution_count": 2,
   "id": "86961663-1ede-4a01-b978-016b3d111b07",
   "metadata": {},
   "outputs": [
    {
     "name": "stdin",
     "output_type": "stream",
     "text": [
      "Enter an EVEN number, please 3\n"
     ]
    },
    {
     "name": "stdout",
     "output_type": "stream",
     "text": [
      "Sorry but 3 is NOT an even number\n"
     ]
    },
    {
     "name": "stdin",
     "output_type": "stream",
     "text": [
      "Enter an EVEN number, please 7\n"
     ]
    },
    {
     "name": "stdout",
     "output_type": "stream",
     "text": [
      "Sorry but 7 is NOT an even number\n"
     ]
    },
    {
     "name": "stdin",
     "output_type": "stream",
     "text": [
      "Enter an EVEN number, please hello\n"
     ]
    },
    {
     "name": "stdout",
     "output_type": "stream",
     "text": [
      "What are you doing? hello is NOT a number!\n"
     ]
    },
    {
     "name": "stdin",
     "output_type": "stream",
     "text": [
      "Enter an EVEN number, please a3\n"
     ]
    },
    {
     "name": "stdout",
     "output_type": "stream",
     "text": [
      "What are you doing? a3 is NOT a number!\n"
     ]
    },
    {
     "name": "stdin",
     "output_type": "stream",
     "text": [
      "Enter an EVEN number, please 40\n"
     ]
    },
    {
     "name": "stdout",
     "output_type": "stream",
     "text": [
      "Thanks, 40 is an even number\n"
     ]
    }
   ],
   "source": [
    "can_exit = False\n",
    "\n",
    "while (not can_exit):\n",
    "    n = input (\"Enter an EVEN number, please\")\n",
    "    if n.isnumeric():\n",
    "        if (int(n) % 2) == 0:\n",
    "            print(f\"Thanks, {n} is an even number\")\n",
    "            can_exit = True\n",
    "        else:\n",
    "            print(f\"Sorry but {n} is NOT an even number\")\n",
    "    else:\n",
    "        print(f\"What are you doing? {n} is NOT a number!\")"
   ]
  }
 ],
 "metadata": {
  "kernelspec": {
   "display_name": "masterds",
   "language": "python",
   "name": "masterds"
  },
  "language_info": {
   "codemirror_mode": {
    "name": "ipython",
    "version": 3
   },
   "file_extension": ".py",
   "mimetype": "text/x-python",
   "name": "python",
   "nbconvert_exporter": "python",
   "pygments_lexer": "ipython3",
   "version": "3.11.11"
  }
 },
 "nbformat": 4,
 "nbformat_minor": 5
}
